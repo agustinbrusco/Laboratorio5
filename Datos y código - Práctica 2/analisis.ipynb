{
 "cells": [
  {
   "cell_type": "markdown",
   "metadata": {},
   "source": [
    "# <center><b> Práctica 2 de Laboratorio 5 </b><br><u> Espectroscopía Láser </u></center>\n",
    "\n",
    "Grupo 1: Trinidad Borrel, Bruno Sivilotti, Agustín Brusco"
   ]
  },
  {
   "cell_type": "markdown",
   "metadata": {},
   "source": [
    "## Imports, formato y definiciones"
   ]
  },
  {
   "cell_type": "code",
   "execution_count": 106,
   "metadata": {},
   "outputs": [],
   "source": [
    "import os\n",
    "# Verificación y ubicación (y descarga de archivos en colab)\n",
    "directory_path = os.getcwd()\n",
    "folder_name = os.path.basename(directory_path)\n",
    "if folder_name != 'Datos y código - Práctica 2':\n",
    "    try:\n",
    "        os.chdir(\"/content/Laboratorio_5_Datos/Datos y código - Práctica 2\")\n",
    "    except FileNotFoundError:\n",
    "        !git clone https://github.com/agustinbrusco/Laboratorio_5_Datos.git\n",
    "        os.chdir(\"/content/Laboratorio_5_Datos/Datos y código - Práctica 2\")\n",
    "\n",
    "import numpy as np\n",
    "import scipy.constants as cte\n",
    "from scipy.optimize import curve_fit\n",
    "from scipy.signal import find_peaks\n",
    "import matplotlib.pyplot as plt\n",
    "# Formato para matplotlib\n",
    "%matplotlib inline\n",
    "%config InlineBackend.figure_format='retina'\n",
    "plt.rcParams['font.family'] = 'serif'\n",
    "plt.rcParams['mathtext.fontset'] = 'cm'\n",
    "plt.rcParams['figure.dpi'] = 100\n",
    "plt.rcParams['legend.fontsize'] = 10\n",
    "plt.rcParams['axes.labelsize'] = 'large'\n",
    "plt.rcParams['axes.xmargin'] = 0\n",
    "\n",
    "# Diccionario de prefijos:\n",
    "# si x_array contiene valores en V, (SCALE['m']*x_array) contiene valores en mV\n",
    "SCALE = {'m': 1e3, 'μ': 1e6, 'n': 1e9, 'p': 1e12,\n",
    "         'k': 1e-3, 'M': 1e-6, 'G': 1e-9, 'T': 1e-12}\n",
    "\n",
    "def corriente_a_frecuencia(corriente: np.ndarray,\n",
    "                           freqs_forzadas: np.ndarray,\n",
    "                           corrientes_forzadas: np.ndarray,\n",
    "                           ) -> np.ndarray:\n",
    "    \"\"\"Transforma un array de corrientes con las que se alimentó\n",
    "    el láser en un array de frecuencias del haz emitido asumiendo\n",
    "    una relacion de proporcionalidad inversa entre ambas cantidades\n",
    "    (esto es, al mínimo valor de corriente queda asociado el máximo\n",
    "    de frecuencia, y viceversa).\n",
    "    \"\"\"\n",
    "    m = -((freqs_forzadas.max() - freqs_forzadas.min())\n",
    "          / (corrientes_forzadas.max() - corrientes_forzadas.min()))\n",
    "    return m*(corriente - corrientes_forzadas.min()) + freqs_forzadas.max()\n",
    "\n",
    "\n",
    "def lineal(t, a, b):\n",
    "    return a*t + b"
   ]
  },
  {
   "cell_type": "markdown",
   "metadata": {},
   "source": [
    "## Carga de Mediciones\n",
    "Ignoramos la lectura de las mediciones a 23,75 °C por la falta de picos identificables."
   ]
  },
  {
   "cell_type": "code",
   "execution_count": 95,
   "metadata": {},
   "outputs": [],
   "source": [
    "Temps_arr = np.arange(21.25, 23.75, 0.25)  # °C\n",
    "\n",
    "# Mediciones sin imán:\n",
    "times_arr = np.zeros((Temps_arr.size, 2500))  # s\n",
    "# El 2500 se debe a la cantidad de mediciones que realiza el osciloscopio.\n",
    "V1 = np.zeros_like(times_arr)  # V\n",
    "V2 = np.zeros_like(times_arr)  # V\n",
    "\n",
    "# Mediciones con imán:\n",
    "times_mag_arr = np.zeros((Temps_arr.size, 2500))  # s\n",
    "# El 2500 se debe a la cantidad de mediciones que realiza el osciloscopio.\n",
    "V1_mag = np.zeros_like(times_mag_arr)  # V\n",
    "V2_mag = np.zeros_like(times_mag_arr)  # V\n",
    "\n",
    "for i, temp_tag in enumerate(Temps_arr):\n",
    "    file = f'pendiente{int(temp_tag*100)}.npy'\n",
    "    times_arr[i], V1[i], V2[i] = np.load(file)\n",
    "    file_mag = f'magnet{int(temp_tag*100)}.npy'\n",
    "    times_mag_arr[i], V1_mag[i], V2_mag[i] = np.load(file_mag)\n",
    "\n",
    "Temps_arr = np.array([Temps_arr]*2500).T  # reshape por consistencia\n",
    "# Así definidos, cada fila de cada array se corresponde a la misma medición (temperatura)"
   ]
  },
  {
   "cell_type": "markdown",
   "metadata": {},
   "source": [
    "## Frecuencias de Transición del $\\mathrm{Rb}$"
   ]
  },
  {
   "cell_type": "code",
   "execution_count": 96,
   "metadata": {},
   "outputs": [
    {
     "name": "stdout",
     "output_type": "stream",
     "text": [
      "0.36178 GHz, 0.8145 GHz, 3.03573 GHz, 6.83468 GHz, 377104 GHz, 377105 GHz, 377106 GHz, 377109 GHz, 377111 GHz, 377257 GHz, 377258 GHz, 377260 GHz, 388112 GHz\n"
     ]
    }
   ],
   "source": [
    "FREQS_RUBIDIO85 = np.array([3.61780000e+08, 3.03573244e+09, 3.77105833e+14, 3.77108868e+14, 3.77256703e+14, 3.77257968e+14, 3.77259738e+14])  # Hz\n",
    "FREQS_RUBIDIO87 = np.array([8.14500000e+08, 6.83468261e+09, 3.77104391e+14, 3.77105206e+14, 3.77111226e+14, 3.88112040e+14])  # Hz\n",
    "freqs_rubidio = np.sort(np.concatenate([FREQS_RUBIDIO85, FREQS_RUBIDIO87]))  # Hz\n",
    "print(*[f\"{f*SCALE['G']:.6g} GHz\" for f in freqs_rubidio], sep=', ')"
   ]
  },
  {
   "cell_type": "markdown",
   "metadata": {},
   "source": [
    "### Forma alternativa de conseguir $f_{\\mathrm{Rb}}$?"
   ]
  },
  {
   "cell_type": "code",
   "execution_count": null,
   "metadata": {},
   "outputs": [],
   "source": [
    "from arc.alkali_atom_data import Rubidium\n",
    "from arc import LevelPlot\n",
    "\n",
    "rb_atom = Rubidium()\n",
    "# rb_atom.getEnergy(n=5, l=0, j=1/2)  # eV\n",
    "\n",
    "levels = LevelPlot(rb_atom)\n",
    "levels.makeLevels(5, 20, 0, 3)\n",
    "levels.drawLevels('GHz')\n",
    "levels.showPlot()"
   ]
  },
  {
   "cell_type": "markdown",
   "metadata": {},
   "source": [
    "## Transformación Tiempo -> Corriente -> Frecuencia"
   ]
  },
  {
   "cell_type": "code",
   "execution_count": 110,
   "metadata": {},
   "outputs": [
    {
     "name": "stderr",
     "output_type": "stream",
     "text": [
      "virtual void QEventDispatcherUNIX::registerSocketNotifier(QSocketNotifier*): Multiple socket notifiers for same socket 11 and type Read\n"
     ]
    }
   ],
   "source": [
    "v_units = 'm'\n",
    "f_units = 'G'\n",
    "freqs_arr = np.zeros_like(times_arr)  # Hz\n",
    "freqs_mag_arr = np.zeros_like(times_arr)  # Hz\n",
    "corrientes_arr = np.zeros_like(times_arr)  # A\n",
    "peaks = [0,]*times_arr.shape[0]  # Indices\n",
    "# Hipotesis: los picos de tensión se asocian a los picos de corriente\n",
    "corriente_setpoint = 1.4e-3  # A : Valor medio de las oscilaciones\n",
    "corriente_depth = 0.1/100\n",
    "corriente_max = corriente_setpoint*(1+corriente_depth)  # A\n",
    "corriente_min = corriente_setpoint*(1-corriente_depth)  # A\n",
    "corriente_rango = corriente_max - corriente_min  # A\n",
    "for i, (tiempo, tiempo_mag, v1_arr, mag1_arr) in enumerate(zip(times_arr, times_mag_arr,\n",
    "                                                               V1, V1_mag)):\n",
    "    # Para la medición sin imán:\n",
    "    t_max = tiempo[np.argmax(v1_arr)]  # s\n",
    "    t_min = tiempo[np.argmin(v1_arr)]  # s\n",
    "    m = (corriente_max - corriente_min)/(t_max - t_min)  # A/s\n",
    "    corrientes_arr[i] = m*(tiempo - t_min) + corriente_min  # A\n",
    "    popt, pcov = curve_fit(lineal, corrientes_arr[i], v1_arr)\n",
    "    # Para la medición con imán:\n",
    "    t_mag_max = tiempo_mag[np.argmax(mag1_arr)]  # s\n",
    "    t_mag_min = tiempo_mag[np.argmin(mag1_arr)]  # s\n",
    "    m_mag = (corriente_max - corriente_min)/(t_mag_max - t_mag_min)  # A/s\n",
    "    corrientes_mag = m_mag*(tiempo_mag - t_mag_min) + corriente_min  # A\n",
    "\n",
    "    peaks[i] = find_peaks(-(v1_arr - lineal(corrientes_arr[i], *popt)),\n",
    "                       distance=30, prominence=0.01, height=0.015)[0]\n",
    "    # Sabemos que estos corresponden com los picos que encontramos con find_peaks:\n",
    "    idx1 = 6\n",
    "    idx2 = 7\n",
    "    freqs_arr[i] = corriente_a_frecuencia(corrientes_arr[i],\n",
    "                                          freqs_rubidio[[idx1, idx2]],  # Hz\n",
    "                                          corrientes_arr[i][peaks[i][[-2, -1]]])  # A\n",
    "    \n",
    "    freqs_mag_arr[i] = corriente_a_frecuencia(corrientes_mag,\n",
    "                                              freqs_rubidio[[idx1, idx2]],  # Hz\n",
    "                                              corrientes_arr[i][peaks[i][[-2, -1]]])  # A\n",
    "    # Plots:\n",
    "    plt.figure()\n",
    "    plt.plot(SCALE[f_units]*freqs_arr[i],\n",
    "             SCALE[v_units]*v1_arr,\n",
    "             '.-', ms=3, mec='k', mew=0.25)\n",
    "    plt.plot(SCALE[f_units]*freqs_mag_arr[i],\n",
    "             SCALE[v_units]*mag1_arr,\n",
    "             'r.-', ms=3, mec='k', mew=0.25)\n",
    "    plt.plot(SCALE[f_units]*freqs_arr[i][peaks[i]],\n",
    "             SCALE[v_units]*v1_arr[peaks[i]],\n",
    "             '^', mec='k', mew=0.25)\n",
    "    plt.axvline(SCALE[f_units]*freqs_arr[i][peaks[i][-1]],\n",
    "                ls='--', c='r')\n",
    "    plt.axvline(SCALE[f_units]*freqs_arr[i][peaks[i][-2]],\n",
    "                ls='--', c='r')\n",
    "    plt.grid(True)\n",
    "    plt.ylabel(f\"Voltaje [{v_units}V]\")\n",
    "    plt.xlabel(f\"Frecuencia [{f_units}Hz]\")\n",
    "    plt.show()\n",
    "\n",
    "peaks = np.array(peaks)"
   ]
  },
  {
   "cell_type": "code",
   "execution_count": 108,
   "metadata": {},
   "outputs": [
    {
     "name": "stderr",
     "output_type": "stream",
     "text": [
      "virtual void QEventDispatcherUNIX::registerSocketNotifier(QSocketNotifier*): Multiple socket notifiers for same socket 11 and type Read\n"
     ]
    }
   ],
   "source": [
    "from matplotlib.colors import Normalize  # Para el coloreo dinamico\n",
    "# %matplotlib qt5  # DESCOMENTAR SI SE CORRE LOCALMENTE PARA TENER \n",
    "norm = Normalize(Temps_arr.min(), Temps_arr.max())  # Un normalizador que asocia valores del intervalo de n al rango [0:1].\n",
    "warmscale = plt.cm.ScalarMappable(norm, 'inferno', )  # Asocio los valores del rango de n normalizado en [0:1] a una paleta de colores.\n",
    "colors1 = warmscale.to_rgba  # la función que dado n devuelve el color asociado\n",
    "coolscale = plt.cm.ScalarMappable(norm, 'cool', )  # Asocio los valores del rango de n normalizado en [0:1] a una paleta de colores.\n",
    "colors2 = coolscale.to_rgba  # la función que dado n devuelve el color asociado\n",
    "\n",
    "\n",
    "v_units = 'm'\n",
    "f_units = 'G'\n",
    "\n",
    "fig = plt.figure(figsize=(8, 4), dpi=150)\n",
    "ax = fig.add_subplot(projection='3d')\n",
    "\n",
    "# Grafico de los puntos que usamos para calibrar:\n",
    "plt.plot(SCALE[f_units]*freqs_rubidio[[6,]*10],\n",
    "         Temps_arr[:, 0],\n",
    "         SCALE[v_units]*np.diag(V1[:, peaks.T[0]]),\n",
    "         'k.', ms=3)\n",
    "plt.plot(SCALE[f_units]*freqs_rubidio[[7,]*10],\n",
    "         Temps_arr[:, 0],\n",
    "         SCALE[v_units]*np.diag(V1[:, peaks.T[1]]),\n",
    "         'k.', ms=3)\n",
    "\n",
    "# Superficie definida por las mediciones:\n",
    "# ax.plot_surface(SCALE[f_units]*freqs_arr,\n",
    "#                 Temps_arr,\n",
    "#                 SCALE[v_units]*V1,\n",
    "#                 color='C1', alpha=0.25)\n",
    "\n",
    "# Curvas medidas sin imán:\n",
    "for f, t, v in zip(SCALE[f_units]*freqs_arr[::-1],\n",
    "                   Temps_arr[::-1],\n",
    "                   SCALE[v_units]*V1[::-1]):\n",
    "    ax.plot(f, t, v, c=colors1(t[0]), lw=0.5)\n",
    "\n",
    "# Curvas medidas con imán:\n",
    "for f, t, v in zip(SCALE[f_units]*freqs_mag_arr[::-1],\n",
    "                   Temps_arr[::-1],\n",
    "                   SCALE[v_units]*V1_mag[::-1]):\n",
    "    ax.plot(f, t, v, c=colors2(t[0]), lw=0.5)\n",
    "\n",
    "ax.set_xlabel(f\"Frecuencia [{f_units}Hz]\")\n",
    "ax.set_ylabel(\"Temperaturas [°C]\")\n",
    "ax.set_zlabel(f\"Volataje [{v_units}V]\")\n",
    "plt.show()"
   ]
  }
 ],
 "metadata": {
  "kernelspec": {
   "display_name": "Python 3.9.12 ('facu39')",
   "language": "python",
   "name": "python3"
  },
  "language_info": {
   "codemirror_mode": {
    "name": "ipython",
    "version": 3
   },
   "file_extension": ".py",
   "mimetype": "text/x-python",
   "name": "python",
   "nbconvert_exporter": "python",
   "pygments_lexer": "ipython3",
   "version": "3.9.12"
  },
  "orig_nbformat": 4,
  "vscode": {
   "interpreter": {
    "hash": "be15c7ac4da6fd5d8f9a71357bdbc857b1ae124919dc2c286feb746f5263f095"
   }
  }
 },
 "nbformat": 4,
 "nbformat_minor": 2
}
