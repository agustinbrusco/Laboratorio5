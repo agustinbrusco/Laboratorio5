{
 "cells": [
  {
   "cell_type": "code",
   "execution_count": null,
   "metadata": {},
   "outputs": [],
   "source": [
    "import nidaqmx\n",
    "import numpy as np\n",
    "import matplotlib.pyplot as plt\n",
    "import seaborn as sns\n",
    "import time\n",
    "# Formato para matplotlib\n",
    "from matplotlib import rcParams\n",
    "%matplotlib inline\n",
    "%config InlineBackend.figure_format='retina'\n",
    "rcParams['font.family'] = 'serif'\n",
    "rcParams['mathtext.fontset'] = 'cm'\n",
    "rcParams['figure.dpi'] = 120\n",
    "rcParams['legend.fontsize'] = 10\n",
    "rcParams['axes.labelsize'] = 'large'\n",
    "rcParams['axes.xmargin'] = 0\n",
    "rcParams['axes.grid'] = True\n",
    "\n",
    "#para saber el ID de la placa conectada (DevX)\n",
    "system = nidaqmx.system.System.local()\n",
    "for device in system.devices:\n",
    "    print(device)"
   ]
  },
  {
   "cell_type": "code",
   "execution_count": null,
   "metadata": {},
   "outputs": [],
   "source": [
    "# para setear (y preguntar) el modo y rango de un canal analógico\n",
    "with nidaqmx.Task() as task:\n",
    "    ai_channel = task.ai_channels.add_ai_voltage_chan(\"Dev2/ai1\",\n",
    "                                                    #   max_val=10, min_val=-10\n",
    "                                                      )\n",
    "    print(ai_channel.ai_term_cfg)    \n",
    "    print(ai_channel.ai_max)\n",
    "    print(ai_channel.ai_min)\t"
   ]
  },
  {
   "cell_type": "code",
   "execution_count": null,
   "metadata": {},
   "outputs": [],
   "source": [
    "# Medicion por tiempo/samples de una sola vez\n",
    "def medicion_una_vez(duracion, fs):\n",
    "    cant_puntos = int(duracion*fs)\n",
    "    with nidaqmx.Task() as task:\n",
    "        modo= nidaqmx.constants.TerminalConfiguration.BAL_DIFF\n",
    "        task.ai_channels.add_ai_voltage_chan(\"Dev2/ai1\", terminal_config = modo)\n",
    "               \n",
    "        task.timing.cfg_samp_clk_timing(fs,samps_per_chan = cant_puntos,\n",
    "                                        sample_mode = nidaqmx.constants.AcquisitionType.FINITE)\n",
    "        \n",
    "        datos = task.read(number_of_samples_per_channel=nidaqmx.constants.READ_ALL_AVAILABLE)           \n",
    "    datos = np.asarray(datos)    \n",
    "    return datos\n",
    "\n",
    "\n",
    "# duracion = 1 #segundos\n",
    "# fs = 1000 #Frecuencia de muestreo\n",
    "# y = medicion_una_vez(duracion, fs)\n",
    "# t = np.linspace(0,.999,1000)\n",
    "# plt.plot(t,y)\n",
    "# plt.grid()\n",
    "# plt.show()"
   ]
  }
 ],
 "metadata": {
  "kernelspec": {
   "display_name": "Python 3.10.6 64-bit",
   "language": "python",
   "name": "python3"
  },
  "language_info": {
   "name": "python",
   "version": "3.10.6"
  },
  "orig_nbformat": 4,
  "vscode": {
   "interpreter": {
    "hash": "916dbcbb3f70747c44a77c7bcd40155683ae19c65e1c03b4aa3499c5328201f1"
   }
  }
 },
 "nbformat": 4,
 "nbformat_minor": 2
}
